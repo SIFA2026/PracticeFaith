{
 "cells": [
  {
   "cell_type": "markdown",
   "id": "2011a236-259d-4f54-b475-6bf169f7ffbc",
   "metadata": {},
   "source": [
    "# Sqaured,Cubed and Power of itself"
   ]
  },
  {
   "cell_type": "code",
   "execution_count": 50,
   "id": "4cae6d2a-9e98-4464-b401-18f66339d9c9",
   "metadata": {},
   "outputs": [
    {
     "name": "stdout",
     "output_type": "stream",
     "text": [
      "Squared List: [1, 4, 9, 16, 25]\n",
      "Cubed List: [1, 8, 27, 64, 125]\n",
      "Power of itself: [1, 4, 27, 256, 3125]\n"
     ]
    }
   ],
   "source": [
    "list_int=[1, 2, 3, 4, 5]\n",
    "squared=[num**2 for num in list_int]\n",
    "cubed=[num**3 for num in list_int]\n",
    "power_itself=[num**num for num in list_int]\n",
    "print(\"Squared List:\",squared)\n",
    "print(\"Cubed List:\",cubed)\n",
    "print(\"Power of itself:\",power_itself)\n",
    "\n",
    "                                             "
   ]
  },
  {
   "cell_type": "markdown",
   "id": "fd900d88-79db-4f5a-bdfc-94c1461a0455",
   "metadata": {},
   "source": [
    "# 2a.Write a list comprehension that filters out only the even numbers from the list [10, 15, 20, 25, 30, 35]."
   ]
  },
  {
   "cell_type": "code",
   "execution_count": 56,
   "id": "81e5ca9a-21f4-4756-9caf-077a911c804a",
   "metadata": {},
   "outputs": [
    {
     "data": {
      "text/plain": [
       "[15, 25, 35]"
      ]
     },
     "execution_count": 56,
     "metadata": {},
     "output_type": "execute_result"
    }
   ],
   "source": [
    "List_num=[10, 15, 20, 25, 30, 35]\n",
    "without_even=[num for num in List_num if num%2!=0]\n",
    "without_even\n"
   ]
  },
  {
   "cell_type": "markdown",
   "id": "d749be7e-46cc-4593-a801-916045cd0142",
   "metadata": {},
   "source": [
    "# 2b Write a list comprehenion/for loop that retuns every 4th value in  range of 1 to 100"
   ]
  },
  {
   "cell_type": "code",
   "execution_count": 77,
   "id": "d41d920b-7b9a-4c9a-834d-f22362a15f0f",
   "metadata": {},
   "outputs": [
    {
     "data": {
      "text/plain": [
       "[4,\n",
       " 8,\n",
       " 12,\n",
       " 16,\n",
       " 20,\n",
       " 24,\n",
       " 28,\n",
       " 32,\n",
       " 36,\n",
       " 40,\n",
       " 44,\n",
       " 48,\n",
       " 52,\n",
       " 56,\n",
       " 60,\n",
       " 64,\n",
       " 68,\n",
       " 72,\n",
       " 76,\n",
       " 80,\n",
       " 84,\n",
       " 88,\n",
       " 92,\n",
       " 96]"
      ]
     },
     "execution_count": 77,
     "metadata": {},
     "output_type": "execute_result"
    }
   ],
   "source": [
    "range_1=range(1,100)\n",
    "fourth_values=[ num for num in range_1 if num%4==0] \n",
    "fourth_values\n"
   ]
  },
  {
   "cell_type": "markdown",
   "id": "10103481-5162-4b94-a727-7c4331b68705",
   "metadata": {},
   "source": [
    "# 3a. You have a list of strings, [\"apple\", \"banana\", \"cherry\"]. Write a list comprehension that converts each string to uppercase."
   ]
  },
  {
   "cell_type": "code",
   "execution_count": 82,
   "id": "160df064-eeb8-4886-8409-637f3dadae77",
   "metadata": {},
   "outputs": [
    {
     "data": {
      "text/plain": [
       "['APPLE', 'BANANA', 'CHERRY']"
      ]
     },
     "execution_count": 82,
     "metadata": {},
     "output_type": "execute_result"
    }
   ],
   "source": [
    "Fruits=[\"apple\",\"banana\",\"cherry\"]\n",
    "capital_fruits = [fruit.upper() for fruit in Fruits]\n",
    "capital_fruits"
   ]
  },
  {
   "cell_type": "markdown",
   "id": "3eba2a04-a332-4bd1-bbc3-844715507905",
   "metadata": {},
   "source": [
    "# 3b. Now create a dictionary comprehension  to output the fruit as key and length of each character in the fruit as value"
   ]
  },
  {
   "cell_type": "code",
   "execution_count": 93,
   "id": "90df55e8-3cb4-48eb-aa2b-3fd0fe3978a7",
   "metadata": {},
   "outputs": [
    {
     "data": {
      "text/plain": [
       "{'apple': 0, 'banana': 1, 'cherry': 2}"
      ]
     },
     "execution_count": 93,
     "metadata": {},
     "output_type": "execute_result"
    }
   ],
   "source": [
    "Fruits=Fruits\n",
    "index_fruits= [i for i in range(len(Fruits))]  \n",
    "zip(Fruits,index_val)\n",
    "dict_val={k:v for  k,v in zip(Fruits,index_fruits)}\n",
    "dict_val"
   ]
  },
  {
   "cell_type": "markdown",
   "id": "21d50b64-1295-4807-9213-6b70c8a4e9ff",
   "metadata": {},
   "source": [
    "# 4. Given a list of numbers [1, 2, 3, 4, 5, 6], write a single list comprehension that returns: "
   ]
  },
  {
   "cell_type": "markdown",
   "id": "c72481cc-e4c2-4f30-8c3e-dd2e778cde15",
   "metadata": {},
   "source": [
    "# a.\"even\" for each even number"
   ]
  },
  {
   "cell_type": "code",
   "execution_count": 279,
   "id": "0fabf1cd-c3e3-4895-9d8b-cd55f399cd6d",
   "metadata": {},
   "outputs": [
    {
     "name": "stdout",
     "output_type": "stream",
     "text": [
      "[(2, 'even'), (4, 'even'), (6, 'even')]\n"
     ]
    }
   ],
   "source": [
    "numbers = [1, 2, 3, 4, 5, 6]\n",
    "even_numbers = [(x, \"even\") for x in numbers if x % 2 == 0]\n",
    "print(even_numbers)"
   ]
  },
  {
   "cell_type": "code",
   "execution_count": 283,
   "id": "2883dabf-37c0-4100-a59b-8c41753fa09b",
   "metadata": {},
   "outputs": [
    {
     "name": "stdout",
     "output_type": "stream",
     "text": [
      "[(1, 'odd'), (3, 'odd'), (5, 'odd')]\n"
     ]
    }
   ],
   "source": [
    "numbers = [1, 2, 3, 4, 5, 6]\n",
    "odd_numbers = [(x, \"odd\") for x in numbers if x % 2 != 0]\n",
    "print(odd_numbers)"
   ]
  },
  {
   "cell_type": "markdown",
   "id": "3281c214-11be-467c-b00e-e06a0a7bf762",
   "metadata": {},
   "source": [
    "# \"odd\" for each odd number"
   ]
  },
  {
   "cell_type": "code",
   "execution_count": 270,
   "id": "9fbadbcb-7a6c-45f5-9622-9a7390fea045",
   "metadata": {},
   "outputs": [
    {
     "name": "stdout",
     "output_type": "stream",
     "text": [
      "['odd', 'odd', 'odd']\n"
     ]
    }
   ],
   "source": [
    "numbers = [1, 2, 3, 4, 5, 6]\n",
    "odd_numbers = [\"odd\" for x in numbers if x % 2 != 0]\n",
    "print(odd_numbers)"
   ]
  },
  {
   "cell_type": "markdown",
   "id": "1bccc3ba-19ff-4194-82c7-4b8792e5137c",
   "metadata": {},
   "source": [
    "# 5a Suppose you have a list of words like [\"John\", \"Jane\", \"Erick\", \"Benard\", \"Comprehension\"]. Write a list comprehension that extracts the first letter from each word."
   ]
  },
  {
   "cell_type": "code",
   "execution_count": 136,
   "id": "6dec1ded-6726-4b4d-b312-0daafb9baf79",
   "metadata": {},
   "outputs": [
    {
     "data": {
      "text/plain": [
       "['J', 'J', 'E', 'B', 'C']"
      ]
     },
     "execution_count": 136,
     "metadata": {},
     "output_type": "execute_result"
    }
   ],
   "source": [
    "Names=[\"John\", \"Jane\", \"Erick\", \"Benard\", \"Comprehension\"]\n",
    "first_letter = [name[0] for name in Names]\n",
    "first_letter"
   ]
  },
  {
   "cell_type": "markdown",
   "id": "5ed7acbd-cfcd-496d-bc47-0cd2293e8149",
   "metadata": {},
   "source": [
    "# 5b. Save the outputs as dictionary using dictionary comprehension to show the name of each individual as key and first character as value"
   ]
  },
  {
   "cell_type": "code",
   "execution_count": 143,
   "id": "67080d66-b9e3-48a5-a467-3df8aecb296f",
   "metadata": {},
   "outputs": [
    {
     "data": {
      "text/plain": [
       "{'John': 'J', 'Jane': 'J', 'Erick': 'E', 'Benard': 'B', 'Comprehension': 'C'}"
      ]
     },
     "execution_count": 143,
     "metadata": {},
     "output_type": "execute_result"
    }
   ],
   "source": [
    "Names=Names\n",
    "dictionary_comprehension = {name: name[0] for name in Names}\n",
    "dictionary_comprehension"
   ]
  },
  {
   "cell_type": "markdown",
   "id": "93ad46b2-6d5a-4a9f-b33c-407e6479ee08",
   "metadata": {},
   "source": [
    "# 5c. Convert the outputs of number 1 to 5b as functions and test them"
   ]
  },
  {
   "cell_type": "markdown",
   "id": "4dec111a-c098-4ee5-b2c7-99b3b878a95f",
   "metadata": {},
   "source": [
    "# # 1 a b c"
   ]
  },
  {
   "cell_type": "code",
   "execution_count": 195,
   "id": "203e54e1-b5ff-42fb-978b-cfba4bbac92b",
   "metadata": {},
   "outputs": [
    {
     "data": {
      "text/plain": [
       "([16, 36, 49, 64, 25],\n",
       " [64, 216, 343, 512, 125],\n",
       " [256, 46656, 823543, 16777216, 3125])"
      ]
     },
     "execution_count": 195,
     "metadata": {},
     "output_type": "execute_result"
    }
   ],
   "source": [
    "def calculate_powers(list_int):\n",
    "        squared = [num**2 for num in list_int]\n",
    "        cubed = [num**3 for num in list_int]\n",
    "        power_itself = [num**num for num in list_int]\n",
    "        return squared, cubed, power_itself\n",
    "\n",
    "list_int = [4, 6, 7, 8, 5]\n",
    "squared, cubed, power_itself = calculate_powers(list_int)\n",
    "calculate_powers(list_int)\n"
   ]
  },
  {
   "cell_type": "markdown",
   "id": "33d635f5-548d-4ad9-ae3f-1b9dc1cfab2a",
   "metadata": {},
   "source": [
    "# 2a"
   ]
  },
  {
   "cell_type": "code",
   "execution_count": 213,
   "id": "9fde3754-c600-4ee0-aaf1-9575486e1d63",
   "metadata": {},
   "outputs": [
    {
     "data": {
      "text/plain": [
       "[15, 25, 35]"
      ]
     },
     "execution_count": 213,
     "metadata": {},
     "output_type": "execute_result"
    }
   ],
   "source": [
    "#List_num=[10, 15, 20, 25, 30, 35]\n",
    "def filter_even(List_num):\n",
    "        return [num for num in List_num if num % 2 != 0] \n",
    "\n",
    "List_num = [10, 15, 20, 25, 30, 35]\n",
    "without_even = filter_even(List_num)\n",
    "without_even\n",
    "   "
   ]
  },
  {
   "cell_type": "markdown",
   "id": "852d1f71-b009-43ff-9f32-ddbbdb52861e",
   "metadata": {},
   "source": [
    "# 2b"
   ]
  },
  {
   "cell_type": "code",
   "execution_count": 217,
   "id": "78e0527a-858a-488a-bf3c-b3995cf118db",
   "metadata": {},
   "outputs": [
    {
     "data": {
      "text/plain": [
       "[4,\n",
       " 8,\n",
       " 12,\n",
       " 16,\n",
       " 20,\n",
       " 24,\n",
       " 28,\n",
       " 32,\n",
       " 36,\n",
       " 40,\n",
       " 44,\n",
       " 48,\n",
       " 52,\n",
       " 56,\n",
       " 60,\n",
       " 64,\n",
       " 68,\n",
       " 72,\n",
       " 76,\n",
       " 80,\n",
       " 84,\n",
       " 88,\n",
       " 92,\n",
       " 96]"
      ]
     },
     "execution_count": 217,
     "metadata": {},
     "output_type": "execute_result"
    }
   ],
   "source": [
    "def fourth_val(range_1):\n",
    "        return [num for num in range_1 if num % 4 == 0]  \n",
    "range_1 = range(1, 100)\n",
    "fourth_values = fourth_val(range_1)\n",
    "fourth_values"
   ]
  },
  {
   "cell_type": "markdown",
   "id": "134320fd-125e-4253-9774-66f75cc19fdb",
   "metadata": {},
   "source": [
    "# 3a"
   ]
  },
  {
   "cell_type": "code",
   "execution_count": 220,
   "id": "5abde1c8-149b-4ded-8d8c-bb80c01c079b",
   "metadata": {},
   "outputs": [
    {
     "data": {
      "text/plain": [
       "['APPLE', 'BANANA', 'CHERRY']"
      ]
     },
     "execution_count": 220,
     "metadata": {},
     "output_type": "execute_result"
    }
   ],
   "source": [
    "def upper_case(Fruits):\n",
    "    return [fruit.upper() for fruit in Fruits]\n",
    "Fruits=[\"apple\",\"banana\",\"cherry\"]\n",
    "capital_fruits"
   ]
  },
  {
   "cell_type": "markdown",
   "id": "3406ffed-920c-4063-ad7e-3f6cd2cef18e",
   "metadata": {},
   "source": [
    "# 3b"
   ]
  },
  {
   "cell_type": "code",
   "execution_count": 230,
   "id": "ff0bff9d-2836-4257-ad37-ec48b8076069",
   "metadata": {},
   "outputs": [
    {
     "data": {
      "text/plain": [
       "{'apple': 0, 'banana': 1, 'cherry': 2}"
      ]
     },
     "execution_count": 230,
     "metadata": {},
     "output_type": "execute_result"
    }
   ],
   "source": [
    "def dict_comp(Fruits):\n",
    "    return {fruit: index for index, fruit in enumerate(Fruits)}\n",
    "\n",
    "Fruits = [\"apple\", \"banana\", \"cherry\"]\n",
    "dict_val = dict_comp(Fruits)\n",
    "dict_val"
   ]
  },
  {
   "cell_type": "markdown",
   "id": "4e1b8895-7649-40b7-a1f1-a1cfc335b4c4",
   "metadata": {},
   "source": [
    "# 4 even and odd"
   ]
  },
  {
   "cell_type": "code",
   "execution_count": 242,
   "id": "94a5566e-4028-44b7-b273-30d813f63686",
   "metadata": {},
   "outputs": [
    {
     "data": {
      "text/plain": [
       "['even', 'even', 'even']"
      ]
     },
     "execution_count": 242,
     "metadata": {},
     "output_type": "execute_result"
    }
   ],
   "source": [
    "def check_even(num):\n",
    "    return \"even\" if num % 2 == 0 else None\n",
    "\n",
    "List_num = [1, 2, 3, 4, 5, 6]\n",
    "even_numbers = [check_even(num) for num in List_num if check_even(num) is not None]\n",
    "even_numbers"
   ]
  },
  {
   "cell_type": "code",
   "execution_count": 244,
   "id": "12e4de65-4457-42a1-b8aa-b45e04bb0694",
   "metadata": {},
   "outputs": [
    {
     "data": {
      "text/plain": [
       "['odd', 'odd', 'odd']"
      ]
     },
     "execution_count": 244,
     "metadata": {},
     "output_type": "execute_result"
    }
   ],
   "source": [
    "def check_odd(num):\n",
    "    return \"odd\" if num % 2 == 0 else None\n",
    "\n",
    "List_num = [1, 2, 3, 4, 5, 6]\n",
    "odd_numbers = [check_odd(num) for num in List_num if check_odd(num) is not None]\n",
    "odd_numbers"
   ]
  },
  {
   "cell_type": "markdown",
   "id": "c7b3f801-69db-4173-8514-232aedc7d6bf",
   "metadata": {},
   "source": [
    "# 5a"
   ]
  },
  {
   "cell_type": "code",
   "execution_count": 277,
   "id": "654b9dcc-24f5-4dda-8b2a-35280bede5bd",
   "metadata": {},
   "outputs": [
    {
     "data": {
      "text/plain": [
       "['J', 'J', 'E', 'B', 'C']"
      ]
     },
     "execution_count": 277,
     "metadata": {},
     "output_type": "execute_result"
    }
   ],
   "source": [
    "def return_odd(Names):\n",
    "    return[name[0] for name in Names]\n",
    "Names=[\"John\", \"Jane\", \"Erick\", \"Benard\", \"Comprehension\"]\n",
    "first_letter = [name[0] for name in Names]\n",
    "first_letter"
   ]
  },
  {
   "cell_type": "markdown",
   "id": "d78a3315-7b52-4af8-9fb3-5429fc89949c",
   "metadata": {},
   "source": [
    "# 6.Using a lists and dictionary of your choice, create  a dictionary containing 4 lists (full name, age, weight, location, gender) of 10 students."
   ]
  },
  {
   "cell_type": "code",
   "execution_count": 166,
   "id": "2a4d172a-86a6-4ae7-bbf4-5f7fca05aff6",
   "metadata": {},
   "outputs": [
    {
     "data": {
      "text/plain": [
       "{'FullName': ['Robert Rono',\n",
       "  'Diana Jerono',\n",
       "  'Pius Kamau',\n",
       "  'Jael Onyango',\n",
       "  'Patience Precious',\n",
       "  'Asha Matiangi',\n",
       "  'Owen Wasike',\n",
       "  'Pamela Vakoli',\n",
       "  'Protus Makali',\n",
       "  'Kasongo Kaongo'],\n",
       " 'Age': [23, 14, 17, 18, 20, 21, 19, 16, 13, 54],\n",
       " 'Weight': [45, 54, 70, 56, 63, 72, 65, 68, 35, 85],\n",
       " 'Location': ['Starehe',\n",
       "  'Westlands',\n",
       "  'Dagoretti North',\n",
       "  'Gatundu South',\n",
       "  'Kieni',\n",
       "  'Nakuru Town West',\n",
       "  'Butere',\n",
       "  'Mumias East',\n",
       "  'Eldoret North'],\n",
       " 'Gender': ['Male',\n",
       "  'Female',\n",
       "  'Male',\n",
       "  'Female',\n",
       "  'Female',\n",
       "  'Female',\n",
       "  'Male',\n",
       "  'Female',\n",
       "  'Male',\n",
       "  'Male']}"
      ]
     },
     "execution_count": 166,
     "metadata": {},
     "output_type": "execute_result"
    }
   ],
   "source": [
    "FullNames=[\"Robert Rono\",\"Diana Jerono\",\"Pius Kamau\",\"Jael Onyango\",\"Patience Precious\",\n",
    "          \"Asha Matiangi\",\"Owen Wasike\",\"Pamela Vakoli\",\"Protus Makali\",\"Kasongo Kaongo\"]\n",
    "Ages=[23,14,17,18,20,21,19,16,13,54]\n",
    "Weights=[45,54,70,56,63,72,65,68,35,85]\n",
    "Locations=[\"Starehe\",\"Westlands\",\"Dagoretti North\",\"Gatundu South\",\"Kieni\",\"Nakuru Town West\",\"Butere\",\n",
    "          \"Mumias East\",\"Eldoret North\"]\n",
    "Genders=[\"Male\",\"Female\",\"Male\",\"Female\",\"Female\",\"Female\",\"Male\",\"Female\",\"Male\",\"Male\"]\n",
    "\n",
    "Students_Details = {\n",
    "    \"FullName\": FullNames,\n",
    "    \"Age\": Ages,\n",
    "    \"Weight\": Weights,\n",
    "    \"Location\": Locations,\n",
    "    \"Gender\": Genders\n",
    "}\n",
    "Students_Details"
   ]
  },
  {
   "cell_type": "markdown",
   "id": "cc3ad2a6-0d19-4a74-917c-fa0dbe824357",
   "metadata": {},
   "source": [
    "# 7. Convert the output of number six above into pandas dataframes"
   ]
  },
  {
   "cell_type": "code",
   "execution_count": 179,
   "id": "9bbdabbd-3066-433d-a6aa-7e1e88b872f5",
   "metadata": {},
   "outputs": [
    {
     "name": "stdout",
     "output_type": "stream",
     "text": [
      "            FullName  Age  Weight          Location  Gender\n",
      "0        Robert Rono   23      45           Starehe    Male\n",
      "1       Diana Jerono   14      54         Westlands  Female\n",
      "2         Pius Kamau   17      70   Dagoretti North    Male\n",
      "3       Jael Onyango   18      56     Gatundu South  Female\n",
      "4  Patience Precious   20      63             Kieni  Female\n",
      "5      Asha Matiangi   21      72  Nakuru Town West  Female\n",
      "6        Owen Wasike   19      65            Butere    Male\n",
      "7      Pamela Vakoli   16      68             Mosop  Female\n",
      "8      Protus Makali   13      35       Mumias East    Male\n",
      "9     Kasongo Kaongo   54      85     Eldoret North    Male\n"
     ]
    }
   ],
   "source": [
    "import pandas as pd\n",
    "Students_Details = {'FullName': ['Robert Rono',\n",
    "  'Diana Jerono',\n",
    "  'Pius Kamau',\n",
    "  'Jael Onyango',\n",
    "  'Patience Precious',\n",
    "  'Asha Matiangi',\n",
    "  'Owen Wasike',\n",
    "  'Pamela Vakoli',\n",
    "  'Protus Makali',\n",
    "  'Kasongo Kaongo'],\n",
    " 'Age': [23, 14, 17, 18, 20, 21, 19, 16, 13, 54],\n",
    " 'Weight': [45, 54, 70, 56, 63, 72, 65, 68, 35, 85],\n",
    " 'Location': ['Starehe',\n",
    "  'Westlands',\n",
    "  'Dagoretti North',\n",
    "  'Gatundu South',\n",
    "  'Kieni',\n",
    "  'Nakuru Town West',\n",
    "  'Butere','Mosop',\n",
    "  'Mumias East',\n",
    "  'Eldoret North',],\n",
    " 'Gender': ['Male',\n",
    "  'Female',\n",
    "  'Male',\n",
    "  'Female',\n",
    "  'Female',\n",
    "  'Female',\n",
    "  'Male',\n",
    "  'Female',\n",
    "  'Male',\n",
    "  'Male']}\n",
    "df = pd.DataFrame(Students_Details)\n",
    "print(df)"
   ]
  },
  {
   "cell_type": "markdown",
   "id": "98da18d6-9f6e-47a1-b69c-ec2ff4f16b5f",
   "metadata": {},
   "source": [
    "# 8. Now create a new dictionary of key as name of students in number six and value as gender of students using dictionary comprehensions"
   ]
  },
  {
   "cell_type": "code",
   "execution_count": 186,
   "id": "3b2e22eb-cb01-42f0-8816-9d63abec3a46",
   "metadata": {},
   "outputs": [
    {
     "data": {
      "text/plain": [
       "{'Robert Rono': 23,\n",
       " 'Diana Jerono': 14,\n",
       " 'Pius Kamau': 17,\n",
       " 'Jael Onyango': 18,\n",
       " 'Patience Precious': 20,\n",
       " 'Asha Matiangi': 21,\n",
       " 'Owen Wasike': 19,\n",
       " 'Pamela Vakoli': 16,\n",
       " 'Protus Makali': 13,\n",
       " 'Kasongo Kaongo': 54}"
      ]
     },
     "execution_count": 186,
     "metadata": {},
     "output_type": "execute_result"
    }
   ],
   "source": [
    "newdictionary_comprehension = {name: age for name, age in zip(Students_Details['FullName'], Students_Details['Age'])}\n",
    "newdictionary_comprehension"
   ]
  },
  {
   "cell_type": "code",
   "execution_count": null,
   "id": "de844774-e1af-41f7-b2a2-b6c48ab5980d",
   "metadata": {},
   "outputs": [],
   "source": []
  }
 ],
 "metadata": {
  "kernelspec": {
   "display_name": "Python [conda env:base] *",
   "language": "python",
   "name": "conda-base-py"
  },
  "language_info": {
   "codemirror_mode": {
    "name": "ipython",
    "version": 3
   },
   "file_extension": ".py",
   "mimetype": "text/x-python",
   "name": "python",
   "nbconvert_exporter": "python",
   "pygments_lexer": "ipython3",
   "version": "3.12.7"
  }
 },
 "nbformat": 4,
 "nbformat_minor": 5
}
